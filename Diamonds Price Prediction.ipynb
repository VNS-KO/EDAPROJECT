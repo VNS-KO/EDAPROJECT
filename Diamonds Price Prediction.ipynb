{
 "cells": [
  {
   "cell_type": "code",
   "execution_count": null,
   "id": "673e67a0",
   "metadata": {},
   "outputs": [],
   "source": [
    "import numpy as np\n",
    "import pandas as pd\n",
    "import matplotlib.pyplot as plt\n",
    "import seaborn as sns\n",
    "from sklearn.preprocessing import LabelEncoder, StandardScaler\n",
    "from sklearn.model_selection import train_test_split\n",
    "from sklearn.metrics import mean_squared_error\n",
    "\n",
    "import warnings\n",
    "warnings.filterwarnings('ignore')"
   ]
  },
  {
   "cell_type": "code",
   "execution_count": null,
   "id": "22045c58",
   "metadata": {},
   "outputs": [],
   "source": [
    "data = pd.read_csv(\"C:\\\\Users\\\\Vansh Patel\\\\Downloads\\\\EDACAI53\\\\Diamonds Prices2022.csv\")"
   ]
  },
  {
   "cell_type": "code",
   "execution_count": null,
   "id": "c5422f0c",
   "metadata": {},
   "outputs": [],
   "source": [
    "print(f\"Shape Of The Dataset : {data.shape}\")\n",
    "print(f\"\\nGlimpse Of The Dataset :\")\n",
    "data.head().style.set_properties(**{\"background-color\": \"#FDD667\",\"color\":\"black\",\"border\": \"1.5px solid black\"})"
   ]
  },
  {
   "cell_type": "code",
   "execution_count": null,
   "id": "ba4b3866",
   "metadata": {},
   "outputs": [],
   "source": [
    "print(f\"Informations Of The Dataset :\\n\")\n",
    "print(data.info())"
   ]
  },
  {
   "cell_type": "code",
   "execution_count": null,
   "id": "5640a650",
   "metadata": {},
   "outputs": [],
   "source": [
    "print(f\"Summary Of The Dataset :\")\n",
    "data.describe().style.set_properties(**{\"background-color\": \"#FDD667\",\"color\":\"black\",\"border\": \"1.5px solid black\"})"
   ]
  },
  {
   "cell_type": "code",
   "execution_count": null,
   "id": "639474ac",
   "metadata": {},
   "outputs": [],
   "source": [
    "data.describe(include=object).T.style.set_properties(**{\"background-color\": \"#FDD667\",\"color\":\"black\",\"border\": \"1.5px solid black\"})"
   ]
  },
  {
   "cell_type": "code",
   "execution_count": null,
   "id": "988b26d8",
   "metadata": {},
   "outputs": [],
   "source": [
    "# Taking a peek at the dataset from the top 10 rows\n",
    "print(data.head(10))"
   ]
  },
  {
   "cell_type": "code",
   "execution_count": null,
   "id": "4678f1b0",
   "metadata": {},
   "outputs": [],
   "source": [
    "# Taking a peek at the dataset from the bottom 10 rows\n",
    "print(data.tail(10))"
   ]
  },
  {
   "cell_type": "code",
   "execution_count": null,
   "id": "80fb77f5",
   "metadata": {},
   "outputs": [],
   "source": [
    "print(float(data.cut.isnull().sum() * 100.0 / len(data)))\n",
    "print(float(data.color.isnull().sum() * 100.0 / len(data)))\n",
    "print(float(data.clarity.isnull().sum() * 100.0 / len(data)))\n",
    "print(float(data.table.isnull().sum() * 100.0 / len(data)))"
   ]
  },
  {
   "cell_type": "code",
   "execution_count": null,
   "id": "4edbc4d9",
   "metadata": {},
   "outputs": [],
   "source": [
    "data1= data[~data.cut.isnull()].copy()\n",
    "data1 = data1[~data.color.isnull()].copy()\n",
    "data1 = data1[~data.clarity.isnull()].copy()\n",
    "data1 = data1[~data.table.isnull()].copy()\n",
    "print(data1.describe())\n",
    "print(data1.info())\n",
    "data1.isnull().sum()"
   ]
  },
  {
   "cell_type": "code",
   "execution_count": null,
   "id": "757f84fd",
   "metadata": {},
   "outputs": [],
   "source": [
    "print(f\"Null values of the Dataset :\")\n",
    "data.isna().sum().to_frame().T.style.set_properties(**{\"background-color\": \"#FDD667\",\"color\":\"black\",\"border\": \"1.5px solid black\"})"
   ]
  },
  {
   "cell_type": "code",
   "execution_count": null,
   "id": "117d0c06",
   "metadata": {},
   "outputs": [],
   "source": [
    "sns.set_style(\"white\")\n",
    "sns.set(rc={\"axes.facecolor\":\"#f2d4b1\",\"figure.facecolor\":\"#f2d4b1\",\"grid.color\":\"white\"})\n",
    "sns.set_context(\"poster\",font_scale = .7)\n",
    "\n",
    "palette = [\"#c94727\",\"#ea5b17\",\"#e57716\",\"#f2a324\",\"#a2c0a6\",\"#7ac0a8\",\"#5e9786\",\"#557260\"]\n",
    "\n",
    "sns.palplot(sns.color_palette(palette))\n",
    "plt.show()"
   ]
  },
  {
   "cell_type": "code",
   "execution_count": null,
   "id": "cb2b4e8d",
   "metadata": {},
   "outputs": [],
   "source": [
    "print(f\"Let's have a look on the distribution of prices :\")\n",
    "plt.subplots(figsize=(20, 8))\n",
    "p = sns.histplot(data[\"price\"],color=palette[6],kde=True,bins=30,alpha=1,fill=True,edgecolor=\"black\",linewidth=3)\n",
    "p.axes.lines[0].set_color(\"orange\")\n",
    "p.axes.set_title(\"\\nDiamond's Price Distribution\\n\",fontsize=25)\n",
    "plt.ylabel(\"Count\",fontsize=20)\n",
    "plt.xlabel(\"\\nPrice\",fontsize=20)\n",
    "plt.yscale(\"linear\")\n",
    "sns.despine(left=True, bottom=True)\n",
    "\n",
    "plt.show()"
   ]
  },
  {
   "cell_type": "code",
   "execution_count": null,
   "id": "575dddfc",
   "metadata": {},
   "outputs": [],
   "source": [
    "print(f\"Let's have a look on the ratio of diamond's cut :\")\n",
    "plt.subplots(figsize=(12, 12))\n",
    "\n",
    "labels = \"Ideal\",\"Premium\",\"Very Good\",\"Good\",\"Fair\"\n",
    "size = 0.5\n",
    "\n",
    "wedges, texts, autotexts = plt.pie([data[\"cut\"].value_counts().values[0],\n",
    "                                    data[\"cut\"].value_counts().values[1],\n",
    "                                    data[\"cut\"].value_counts().values[2],\n",
    "                                    data[\"cut\"].value_counts().values[3],\n",
    "                                    data[\"cut\"].value_counts().values[4]],\n",
    "                                    explode = (0,0,0,0,0),\n",
    "                                    textprops=dict(size= 20, color= \"white\"),\n",
    "                                    autopct=\"%.2f%%\", \n",
    "                                    pctdistance = 0.72,\n",
    "                                    radius=.9, \n",
    "                                    colors = [\"#3f4f45\",\"#5e9880\",\"#f5a126\",\"#ea5b17\",\"#6c3938\"], \n",
    "                                    shadow = True,\n",
    "                                    wedgeprops=dict(width = size, edgecolor = \"black\", \n",
    "                                    linewidth = 4),\n",
    "                                    startangle = -165)\n",
    "\n",
    "plt.legend(wedges, labels, title=\"Diamond's Cut\",loc=\"center left\",bbox_to_anchor=(1, 0, 0.5, 1), edgecolor = \"black\")\n",
    "plt.title(\"\\nDiamond's Cut Ratio\",fontsize=25)\n",
    "plt.show()"
   ]
  },
  {
   "cell_type": "code",
   "execution_count": null,
   "id": "4d3478f6",
   "metadata": {},
   "outputs": [],
   "source": [
    "print(\"Let's have a look on the diamond's cut :\")\n",
    "plt.subplots(figsize=(20, 8))\n",
    "p=sns.countplot(y=data[\"cut\"],order=data[\"cut\"].value_counts().index,palette=[\"#3f4f45\",\"#5e9880\",\"#f5a126\",\"#ea5b17\",\"#6c3938\"], saturation=1, edgecolor = \"#1c1c1c\", linewidth = 5)\n",
    "# p.axes.set_yscale(\"symlog\")\n",
    "p.axes.set_title(\"\\nDiamond's Cut\\n\",fontsize=25)\n",
    "p.axes.set_ylabel(\"Cut\",fontsize=20)\n",
    "p.axes.set_xlabel(\"\\nTotal\",fontsize=20)\n",
    "p.axes.set_yticklabels(p.get_yticklabels(),rotation = 0)\n",
    "for container in p.containers:\n",
    "    p.bar_label(container,label_type=\"center\",padding=6,size=25,color=\"black\",rotation=0,\n",
    "    bbox={\"boxstyle\": \"round\", \"pad\": 0.4, \"facecolor\": \"#e0b583\", \"edgecolor\": \"#1c1c1c\", \"linewidth\" : 4, \"alpha\": 1})\n",
    "\n",
    "\n",
    "sns.despine(left=True, bottom=True)\n",
    "plt.show()"
   ]
  },
  {
   "cell_type": "code",
   "execution_count": null,
   "id": "cc277238",
   "metadata": {},
   "outputs": [],
   "source": [
    "print(\"Let's have a look on the price distribution of diamond's cut :\")\n",
    "plt.subplots(figsize=(25, 10))\n",
    "\n",
    "p=sns.violinplot(x=data[\"cut\"],y=data[\"price\"],order=data[\"cut\"].value_counts().index,palette=[\"#3f4f45\",\"#5e9880\",\"#f5a126\",\"#ea5b17\",\"#6c3938\"],saturation=1,linewidth=4,edgecolor=\"black\")\n",
    "p.axes.set_title(\"\\nDiamond's Price On Cut\\n\",fontsize=30)\n",
    "p.axes.set_xlabel(\"\\nCut\",fontsize=25)\n",
    "p.axes.set_ylabel(\"Price\",fontsize=25)\n",
    "\n",
    "sns.despine(left=True, bottom=True)\n",
    "plt.show()"
   ]
  },
  {
   "cell_type": "code",
   "execution_count": null,
   "id": "a65d8e31",
   "metadata": {},
   "outputs": [],
   "source": [
    "print(f\"Let's have a look on the ratio of diamond's color :\")\n",
    "plt.subplots(figsize=(12, 12))\n",
    "\n",
    "labels = \"G\",\"E\",\"F\",\"H\",\"D\",\"I\",\"J\"\n",
    "size = 0.5\n",
    "\n",
    "wedges, texts, autotexts = plt.pie([data[\"color\"].value_counts().values[0],\n",
    "                                    data[\"color\"].value_counts().values[1],\n",
    "                                    data[\"color\"].value_counts().values[2],\n",
    "                                    data[\"color\"].value_counts().values[3],\n",
    "                                    data[\"color\"].value_counts().values[4],\n",
    "                                    data[\"color\"].value_counts().values[5],\n",
    "                                    data[\"color\"].value_counts().values[6]],\n",
    "                                    explode = (0,0,0,0,0,0,0),\n",
    "                                    textprops=dict(size= 20, color= \"white\"),\n",
    "                                    autopct=\"%.2f%%\", \n",
    "                                    pctdistance = 0.72,\n",
    "                                    radius=.9, \n",
    "                                    colors = [\"#3f4f45\",\"#5e9880\",\"#a2c0a6\",\"#f5a126\",\"#b05f0d\",\"#ea5b17\",\"#6c3938\"], \n",
    "                                    shadow = True,\n",
    "                                    wedgeprops=dict(width = size, edgecolor = \"black\", \n",
    "                                    linewidth = 4),\n",
    "                                    startangle = -125)\n",
    "\n",
    "plt.legend(wedges, labels, title=\"Diamond's Color\",loc=\"center left\",bbox_to_anchor=(1, 0, 0.5, 1), edgecolor = \"black\")\n",
    "plt.title(\"\\nDiamond's Color Ratio\",fontsize=25)\n",
    "plt.show()"
   ]
  },
  {
   "cell_type": "code",
   "execution_count": null,
   "id": "457f436a",
   "metadata": {},
   "outputs": [],
   "source": [
    "print(\"Let's have a look on the diamond's color :\")\n",
    "plt.subplots(figsize=(20, 8))\n",
    "p=sns.countplot(y=data[\"color\"],order=data[\"color\"].value_counts().index,palette=[\"#3f4f45\",\"#5e9880\",\"#a2c0a6\",\"#f5a126\",\"#b05f0d\",\"#ea5b17\",\"#6c3938\"], saturation=1, edgecolor = \"#1c1c1c\", linewidth = 5)\n",
    "# p.axes.set_yscale(\"symlog\")\n",
    "p.axes.set_title(\"\\nDiamond's Color\\n\",fontsize=25)\n",
    "p.axes.set_ylabel(\"Color\",fontsize=20)\n",
    "p.axes.set_xlabel(\"\\nTotal\",fontsize=20)\n",
    "p.axes.set_yticklabels(p.get_yticklabels(),rotation = 0)\n",
    "for container in p.containers:\n",
    "    p.bar_label(container,label_type=\"center\",padding=6,size=25,color=\"black\",rotation=0,\n",
    "    bbox={\"boxstyle\": \"round\", \"pad\": 0.2, \"facecolor\": \"#e0b583\", \"edgecolor\": \"#1c1c1c\", \"linewidth\" : 4, \"alpha\": 1})\n",
    "\n",
    "\n",
    "sns.despine(left=True, bottom=True)\n",
    "plt.show()"
   ]
  },
  {
   "cell_type": "code",
   "execution_count": null,
   "id": "1c2be4dd",
   "metadata": {},
   "outputs": [],
   "source": [
    "print(\"Let's have a look on the price distribution of diamond's color :\")\n",
    "plt.subplots(figsize=(25, 10))\n",
    "\n",
    "p=sns.violinplot(x=data[\"color\"],y=data[\"price\"],order=data[\"color\"].value_counts().index,palette=[\"#3f4f45\",\"#5e9880\",\"#a2c0a6\",\"#f5a126\",\"#b05f0d\",\"#ea5b17\",\"#6c3938\"],saturation=1,linewidth=4,edgecolor=\"black\")\n",
    "p.axes.set_title(\"\\nDiamond's Price On Color\\n\",fontsize=30)\n",
    "p.axes.set_xlabel(\"\\nColor\",fontsize=25)\n",
    "p.axes.set_ylabel(\"Price\",fontsize=25)\n",
    "\n",
    "sns.despine(left=True, bottom=True)\n",
    "plt.show()"
   ]
  },
  {
   "cell_type": "code",
   "execution_count": null,
   "id": "029ce846",
   "metadata": {},
   "outputs": [],
   "source": [
    "print(f\"Let's have a look on the ratio of diamond's clarity :\")\n",
    "plt.subplots(figsize=(12, 12))\n",
    "\n",
    "labels = \"SI1\",\"VS2\",\"SI2\",\"VS1\",\"VVS2\",\"VVS1\",\"IF\",\"I1\"\n",
    "size = 0.5\n",
    "\n",
    "wedges, texts, autotexts = plt.pie([data[\"clarity\"].value_counts().values[0],\n",
    "                                    data[\"clarity\"].value_counts().values[1],\n",
    "                                    data[\"clarity\"].value_counts().values[2],\n",
    "                                    data[\"clarity\"].value_counts().values[3],\n",
    "                                    data[\"clarity\"].value_counts().values[4],\n",
    "                                    data[\"clarity\"].value_counts().values[5],\n",
    "                                    data[\"clarity\"].value_counts().values[6],\n",
    "                                    data[\"clarity\"].value_counts().values[7]],\n",
    "                                    explode = (0,0,0,0,0,0,0,0),\n",
    "                                    textprops=dict(size= 20, color= \"white\"),\n",
    "                                    autopct=\"%.2f%%\", \n",
    "                                    pctdistance = 0.72,\n",
    "                                    radius=.9, \n",
    "                                    colors = [\"#3f4f45\",\"#557260\",\"#5e9880\",\"#a2c0a6\",\"#f5a126\",\"#e57716\",\"#ea5b17\",\"#6c3938\"], \n",
    "                                    shadow = True,\n",
    "                                    wedgeprops=dict(width = size, edgecolor = \"black\", \n",
    "                                    linewidth = 4),\n",
    "                                    startangle = -230)\n",
    "\n",
    "plt.legend(wedges, labels, title=\"Diamond's Clarity\",loc=\"center left\",bbox_to_anchor=(1, 0, 0.5, 1), edgecolor = \"black\")\n",
    "plt.title(\"\\nDiamond's Clarity Ratio\",fontsize=25)\n",
    "plt.show()"
   ]
  },
  {
   "cell_type": "code",
   "execution_count": null,
   "id": "ccd9d96d",
   "metadata": {},
   "outputs": [],
   "source": [
    "print(\"Let's have a look on the diamond's clarity :\")\n",
    "plt.subplots(figsize=(20, 8))\n",
    "p=sns.countplot(y=data[\"clarity\"],order=data[\"clarity\"].value_counts().index,palette=[\"#3f4f45\",\"#557260\",\"#5e9880\",\"#a2c0a6\",\"#f5a126\",\"#e57716\",\"#ea5b17\",\"#6c3938\"], saturation=1, edgecolor = \"#1c1c1c\", linewidth = 5)\n",
    "# p.axes.set_yscale(\"symlog\")\n",
    "p.axes.set_title(\"\\nDiamond's Clarity\\n\",fontsize=25)\n",
    "p.axes.set_ylabel(\"Clarity\",fontsize=20)\n",
    "p.axes.set_xlabel(\"\\nTotal\",fontsize=20)\n",
    "p.axes.set_yticklabels(p.get_yticklabels(),rotation = 0)\n",
    "for container in p.containers:\n",
    "    p.bar_label(container,label_type=\"center\",padding=6,size=22,color=\"black\",rotation=0,\n",
    "    bbox={\"boxstyle\": \"round\", \"pad\": 0.2, \"facecolor\": \"#e0b583\", \"edgecolor\": \"#1c1c1c\", \"linewidth\" : 3, \"alpha\": 1})\n",
    "\n",
    "\n",
    "sns.despine(left=True, bottom=True)\n",
    "plt.show()"
   ]
  },
  {
   "cell_type": "code",
   "execution_count": null,
   "id": "a004a477",
   "metadata": {},
   "outputs": [],
   "source": [
    "print(\"Let's have a look on the price distribution of diamond's clarity :\")\n",
    "plt.subplots(figsize=(25, 10))\n",
    "\n",
    "p=sns.violinplot(x=data[\"clarity\"],y=data[\"price\"],order=data[\"clarity\"].value_counts().index,palette=[\"#3f4f45\",\"#557260\",\"#5e9880\",\"#a2c0a6\",\"#f5a126\",\"#e57716\",\"#ea5b17\",\"#6c3938\"],saturation=1,linewidth=4,edgecolor=\"black\")\n",
    "p.axes.set_title(\"\\nDiamond's Price On Clarity\\n\",fontsize=30)\n",
    "p.axes.set_xlabel(\"\\nClarity\",fontsize=25)\n",
    "p.axes.set_ylabel(\"Price\",fontsize=25)\n",
    "\n",
    "sns.despine(left=True, bottom=True)\n",
    "plt.show()"
   ]
  },
  {
   "cell_type": "code",
   "execution_count": null,
   "id": "c17b6fbd",
   "metadata": {},
   "outputs": [],
   "source": [
    "print(f\"Let's have a look on the distribution of weight in carat :\")\n",
    "plt.subplots(figsize=(20, 8))\n",
    "p = sns.histplot(data[\"carat\"],color=\"#3f4f45\",kde=True,bins=30,alpha=1,fill=True,edgecolor=\"black\",linewidth=3)\n",
    "p.axes.lines[0].set_color(\"orange\")\n",
    "p.axes.set_title(\"\\nDiamond's Weight In Carat Distribution\\n\",fontsize=25)\n",
    "plt.ylabel(\"Count\",fontsize=20)\n",
    "plt.xlabel(\"\\nWeights In Carat\",fontsize=20)\n",
    "# plt.yscale(\"linear\")\n",
    "sns.despine(left=True, bottom=True)\n",
    "\n",
    "plt.show()"
   ]
  },
  {
   "cell_type": "code",
   "execution_count": null,
   "id": "a32159e2",
   "metadata": {},
   "outputs": [],
   "source": [
    "print(\"Let's have a look on the price distribution of weights in carat :\")\n",
    "\n",
    "_, axes = plt.subplots(figsize=(20,8))\n",
    "sns.kdeplot(y=data[\"carat\"], x=data[\"price\"],edgecolor=\"#1c1c1c\",fill=True, kind=\"kde\",shade=True,height=10,color=\"#3f4f45\")\n",
    "axes.set_title(\"\\nPrice Distribution Of Weights\\n\",fontsize=25)\n",
    "axes.set_xlabel(\"\\nPrice\",fontsize=20)\n",
    "axes.set_ylabel(\"Weights In Carat\",fontsize=20)\n",
    "    \n",
    "sns.despine(left=True, bottom=True)\n",
    "plt.show()"
   ]
  },
  {
   "cell_type": "code",
   "execution_count": null,
   "id": "c0fd6212",
   "metadata": {},
   "outputs": [],
   "source": [
    "print(f\"Let's have a look on the distribution of depth percentage :\")\n",
    "plt.subplots(figsize=(20, 8))\n",
    "p = sns.histplot(data[\"depth\"],color=\"#5e9880\",kde=True,bins=30,alpha=1,fill=True,edgecolor=\"black\",linewidth=3)\n",
    "p.axes.lines[0].set_color(\"orange\")\n",
    "p.axes.set_title(\"\\nDiamond's Depth Percentage Distribution\\n\",fontsize=25)\n",
    "plt.ylabel(\"Count\",fontsize=20)\n",
    "plt.xlabel(\"\\nDepth Percentage\",fontsize=20)\n",
    "# plt.yscale(\"linear\")\n",
    "sns.despine(left=True, bottom=True)\n",
    "\n",
    "plt.show()"
   ]
  },
  {
   "cell_type": "code",
   "execution_count": null,
   "id": "ea41ed97",
   "metadata": {},
   "outputs": [],
   "source": [
    "print(\"Let's have a look on the price distribution of depth percentage :\")\n",
    "\n",
    "_, axes = plt.subplots(figsize=(20,8))\n",
    "sns.kdeplot(y=data[\"depth\"], x=data[\"price\"],edgecolor=\"#1c1c1c\",fill=True, kind=\"kde\",shade=True,height=10,color=\"#5e9880\")\n",
    "axes.set_title(\"\\nPrice Distribution Of Depth Percentage\\n\",fontsize=25)\n",
    "axes.set_xlabel(\"\\nPrice\",fontsize=20)\n",
    "axes.set_ylabel(\"Depth Percentage\",fontsize=20)\n",
    "    \n",
    "sns.despine(left=True, bottom=True)\n",
    "plt.show()"
   ]
  },
  {
   "cell_type": "code",
   "execution_count": null,
   "id": "0ccf5300",
   "metadata": {},
   "outputs": [],
   "source": [
    "print(f\"Let's have a look on the distribution of diamond's table :\")\n",
    "plt.subplots(figsize=(20, 8))\n",
    "p = sns.histplot(data[\"table\"],color=\"#6c3938\",kde=True,bins=30,alpha=1,fill=True,edgecolor=\"black\",linewidth=3)\n",
    "p.axes.lines[0].set_color(\"orange\")\n",
    "p.axes.set_title(\"\\nDiamond's Table Distribution\\n\",fontsize=25)\n",
    "plt.ylabel(\"Count\",fontsize=20)\n",
    "plt.xlabel(\"\\nDiamond's Table\",fontsize=20)\n",
    "# plt.yscale(\"linear\")\n",
    "sns.despine(left=True, bottom=True)\n",
    "\n",
    "plt.show()"
   ]
  },
  {
   "cell_type": "code",
   "execution_count": null,
   "id": "376b09b4",
   "metadata": {},
   "outputs": [],
   "source": [
    "print(\"Let's have a look on the price distribution of diamond's table :\")\n",
    "\n",
    "_, axes = plt.subplots(figsize=(20,8))\n",
    "sns.kdeplot(y=data[\"table\"], x=data[\"price\"],edgecolor=\"#1c1c1c\",fill=True, kind=\"kde\",shade=True,height=10,color=\"#6c3938\")\n",
    "axes.set_title(\"\\nPrice Distribution Of Diamond's Table\\n\",fontsize=25)\n",
    "axes.set_xlabel(\"\\nPrice\",fontsize=20)\n",
    "axes.set_ylabel(\"Diamond's Table\",fontsize=20)\n",
    "    \n",
    "sns.despine(left=True, bottom=True)\n",
    "plt.show()"
   ]
  },
  {
   "cell_type": "code",
   "execution_count": null,
   "id": "ebcfd240",
   "metadata": {},
   "outputs": [],
   "source": [
    "print(f\"Let's have a look on the pairwise relationships :\")\n",
    "\n",
    "sns.pairplot(data=data,hue=\"cut\",palette=[\"#ea5b17\",\"#6c3938\",\"#f5a126\",\"#3f4f45\",\"#5e9880\",\"#5e9869\"],plot_kws=dict(linewidth=0))\n",
    "sns.despine(left=True, bottom=True)\n",
    "plt.show()"
   ]
  },
  {
   "cell_type": "code",
   "execution_count": null,
   "id": "cc2b122d",
   "metadata": {},
   "outputs": [],
   "source": [
    "_, axs = plt.subplots(2,3,figsize=(25,12),sharex=True)\n",
    "plt.tight_layout(pad=4.0)\n",
    "\n",
    "sns.regplot(x=\"price\", y=\"x\", data=data, ax=axs[0,0], color=\"#3f4f45\", fit_reg=True, line_kws=dict(color= \"orange\"))\n",
    "axs[0,0].set_title(\"Price vs Length\\n\",fontsize=25)\n",
    "axs[0,0].set_ylabel(\"x\",fontsize=20)\n",
    "\n",
    "sns.regplot(x=\"price\", y=\"y\", data=data, ax=axs[0,1], color=\"#5e9880\", fit_reg=True, line_kws=dict(color= \"orange\"))\n",
    "axs[0,1].set_title(\"Price vs Width\\n\",fontsize=25)\n",
    "axs[0,1].set_ylabel(\"y\",fontsize=20)\n",
    "\n",
    "sns.regplot(x=\"price\", y=\"z\", data=data, ax=axs[0,2], color=\"#a2c0a6\", fit_reg=True, line_kws=dict(color= \"orange\"))\n",
    "axs[0,2].set_title(\"Price vs Depth\\n\",fontsize=25)\n",
    "axs[0,2].set_ylabel(\"z\",fontsize=20)\n",
    "\n",
    "sns.regplot(x=\"price\", y=\"depth\", data=data, ax=axs[1,0], color=\"#f5a126\", fit_reg=True, line_kws=dict(color= \"#6c3938\"))\n",
    "axs[1,0].set_title(\"Price vs Depth Percentage\\n\",fontsize=25)\n",
    "axs[1,0].set_xlabel(\"\\nPrice\",fontsize=20)\n",
    "axs[1,0].set_ylabel(\"depth\",fontsize=20)\n",
    "\n",
    "sns.regplot(x=\"price\", y=\"table\", data=data, ax=axs[1,1], color=\"#ea5b17\", fit_reg=True, line_kws=dict(color= \"#6c3938\"))\n",
    "axs[1,1].set_title(\"Price vs Table\\n\",fontsize=25)\n",
    "axs[1,1].set_xlabel(\"\\nPrice\",fontsize=20)\n",
    "axs[1,1].set_ylabel(\"Table\",fontsize=20)\n",
    "\n",
    "sns.regplot(x=\"price\", y=\"carat\", data=data, ax=axs[1,2], color=\"#6c3938\", fit_reg=True, line_kws=dict(color= \"orange\"))\n",
    "axs[1,2].set_title(\"Price vs Weight\\n\",fontsize=25)\n",
    "axs[1,2].set_xlabel(\"\\nPrice\",fontsize=20)\n",
    "axs[1,2].set_ylabel(\"carat\",fontsize=20)\n",
    "\n",
    "plt.suptitle(\"Regression Line\",fontsize=30, y=1.03)\n",
    "sns.despine(left=True, bottom=True)\n",
    "plt.show()"
   ]
  },
  {
   "cell_type": "code",
   "execution_count": null,
   "id": "36de4c15",
   "metadata": {},
   "outputs": [],
   "source": [
    "data = data[(data[\"x\"]<10)&(data[\"x\"]>3)]\n",
    "data = data[(data[\"y\"]<13)&(data[\"y\"]>2)]\n",
    "data = data[(data[\"z\"]<6)&(data[\"z\"]>2)]\n",
    "data = data[(data[\"depth\"]<73)&(data[\"depth\"]>53)]\n",
    "data = data[(data[\"table\"]<71)&(data[\"table\"]>50)]\n",
    "data = data[(data[\"carat\"]<3)]\n",
    "\n",
    "print(f\"After dropping outliers, let's have a look on the pairwise relationships :\")\n",
    "\n",
    "sns.pairplot(data=data,hue=\"cut\",palette=[\"#ea5b17\",\"#6c3938\",\"#f5a126\",\"#3f4f45\",\"#5e9880\",\"#5e9869\"],plot_kws=dict(linewidth=0))\n",
    "sns.despine(left=True, bottom=True)\n",
    "plt.show()"
   ]
  },
  {
   "cell_type": "code",
   "execution_count": null,
   "id": "e78f9049",
   "metadata": {},
   "outputs": [],
   "source": [
    "catcol = [\"color\",\"clarity\",\"cut\"]\n",
    "le = LabelEncoder()\n",
    "for col in catcol:\n",
    "        data[col] = le.fit_transform(data[col])\n",
    "\n",
    "\n",
    "plt.subplots(figsize =(10, 10))\n",
    "\n",
    "sns.heatmap(data.corr(), cmap = palette, square=True, cbar_kws=dict(shrink =.82), \n",
    "            annot=True, vmin=-1, vmax=1, linewidths=3,linecolor='#3f4f45',annot_kws=dict(fontsize =12))\n",
    "plt.title(\"Pearson Correlation Of Features\\n\", fontsize=25)\n",
    "plt.xticks(rotation=90)\n",
    "plt.yticks(rotation=0)\n",
    "plt.show()"
   ]
  },
  {
   "cell_type": "code",
   "execution_count": null,
   "id": "066f2f17",
   "metadata": {},
   "outputs": [],
   "source": [
    "sns.pairplot(data[[\"price\", \"carat\", \"cut\"]], hue = \"cut\", height = 5)\n",
    "plt.show()\n",
    "sns.barplot(x = \"carat\", y = \"cut\", data = data)\n",
    "plt.show()\n",
    "sns.barplot(x = \"price\", y = \"cut\", data = data)\n",
    "plt.show()"
   ]
  },
  {
   "cell_type": "code",
   "execution_count": null,
   "id": "b71c5bab",
   "metadata": {},
   "outputs": [],
   "source": [
    "sns.pairplot(data[[\"price\", \"carat\", \"color\"]], hue = \"color\", height = 5)\n",
    "plt.show()\n",
    "sns.barplot(x = \"carat\", y = \"color\", data = data)\n",
    "plt.show()\n",
    "sns.barplot(x = \"price\", y = \"color\", data = data)\n",
    "plt.show()"
   ]
  },
  {
   "cell_type": "code",
   "execution_count": null,
   "id": "b33603a3",
   "metadata": {},
   "outputs": [],
   "source": [
    "sns.pairplot(data[[\"price\", \"carat\", \"clarity\"]], hue = \"clarity\", height = 5)\n",
    "plt.show()\n",
    "sns.barplot(x = \"carat\", y = \"clarity\", data = data)\n",
    "plt.show()\n",
    "sns.barplot(x = \"price\", y = \"clarity\", data = data)\n",
    "plt.show()"
   ]
  },
  {
   "cell_type": "code",
   "execution_count": null,
   "id": "2815c45b",
   "metadata": {},
   "outputs": [],
   "source": []
  },
  {
   "cell_type": "code",
   "execution_count": null,
   "id": "5d4f0556",
   "metadata": {},
   "outputs": [],
   "source": []
  },
  {
   "cell_type": "code",
   "execution_count": null,
   "id": "eccd5e6d",
   "metadata": {},
   "outputs": [],
   "source": []
  }
 ],
 "metadata": {
  "kernelspec": {
   "display_name": "Python 3 (ipykernel)",
   "language": "python",
   "name": "python3"
  },
  "language_info": {
   "codemirror_mode": {
    "name": "ipython",
    "version": 3
   },
   "file_extension": ".py",
   "mimetype": "text/x-python",
   "name": "python",
   "nbconvert_exporter": "python",
   "pygments_lexer": "ipython3",
   "version": "3.9.7"
  }
 },
 "nbformat": 4,
 "nbformat_minor": 5
}
